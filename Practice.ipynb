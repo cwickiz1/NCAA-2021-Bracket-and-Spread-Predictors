{
 "cells": [
  {
   "cell_type": "code",
   "execution_count": 1,
   "id": "detected-puppy",
   "metadata": {},
   "outputs": [],
   "source": [
    "import numpy as np\n",
    "import pandas as pd\n",
    "import matplotlib.pyplot as plt\n",
    "import seaborn as sns\n",
    "\n",
    "from sklearn.model_selection import KFold\n",
    "from sklearn.linear_model import ElasticNet, LogisticRegression\n",
    "\n",
    "#path = 'ncaam-march-mania-2021/MDataFiles_Stage1/'\n",
    "path = 'ncaam-march-mania-2021/MDataFiles_Stage2/'"
   ]
  },
  {
   "cell_type": "code",
   "execution_count": 2,
   "id": "imperial-depth",
   "metadata": {},
   "outputs": [],
   "source": [
    "season_detailed = pd.read_csv(path+'MRegularSeasonDetailedResults.csv')"
   ]
  },
  {
   "cell_type": "code",
   "execution_count": 11,
   "id": "neural-twelve",
   "metadata": {},
   "outputs": [
    {
     "data": {
      "text/plain": [
       "362"
      ]
     },
     "execution_count": 11,
     "metadata": {},
     "output_type": "execute_result"
    }
   ],
   "source": [
    "len(season_detailed['WTeamID'].unique())"
   ]
  },
  {
   "cell_type": "code",
   "execution_count": 12,
   "id": "specific-soldier",
   "metadata": {},
   "outputs": [
    {
     "data": {
      "text/plain": [
       "362"
      ]
     },
     "execution_count": 12,
     "metadata": {},
     "output_type": "execute_result"
    }
   ],
   "source": [
    "len(season_detailed['LTeamID'].unique())"
   ]
  },
  {
   "cell_type": "code",
   "execution_count": null,
   "id": "sublime-bones",
   "metadata": {},
   "outputs": [],
   "source": []
  }
 ],
 "metadata": {
  "kernelspec": {
   "display_name": "Python 3",
   "language": "python",
   "name": "python3"
  },
  "language_info": {
   "codemirror_mode": {
    "name": "ipython",
    "version": 3
   },
   "file_extension": ".py",
   "mimetype": "text/x-python",
   "name": "python",
   "nbconvert_exporter": "python",
   "pygments_lexer": "ipython3",
   "version": "3.8.8"
  }
 },
 "nbformat": 4,
 "nbformat_minor": 5
}
